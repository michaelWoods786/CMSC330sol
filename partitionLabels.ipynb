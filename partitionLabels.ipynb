{
  "nbformat": 4,
  "nbformat_minor": 0,
  "metadata": {
    "colab": {
      "provenance": [],
      "authorship_tag": "ABX9TyMm+4k92ngnSpP7Ayfa/u0i",
      "include_colab_link": true
    },
    "kernelspec": {
      "name": "python3",
      "display_name": "Python 3"
    },
    "language_info": {
      "name": "python"
    }
  },
  "cells": [
    {
      "cell_type": "markdown",
      "metadata": {
        "id": "view-in-github",
        "colab_type": "text"
      },
      "source": [
        "<a href=\"https://colab.research.google.com/github/michaelWoods786/CMSC330sol/blob/main/partitionLabels.ipynb\" target=\"_parent\"><img src=\"https://colab.research.google.com/assets/colab-badge.svg\" alt=\"Open In Colab\"/></a>"
      ]
    },
    {
      "cell_type": "code",
      "execution_count": null,
      "metadata": {
        "id": "Z7oGeSwShL2D"
      },
      "outputs": [],
      "source": [
        "class Solution:\n",
        "    def partitionLabels(self, s: str) -> List[int]:\n",
        "        hashy = {}\n",
        "        for i in range(len(s)):\n",
        "            hashy[s[i]] = i\n",
        "\n",
        "        goal = 0\n",
        "        ret = []\n",
        "        subs = \"\"\n",
        "        for i in range(len(s)):\n",
        "            subs+=(s[i])\n",
        "            goal = max(goal, hashy[s[i]])\n",
        "\n",
        "            if i == goal:\n",
        "\n",
        "                ret+=([len(subs)])\n",
        "                subs = \"\"\n",
        "        return ret"
      ]
    }
  ]
}
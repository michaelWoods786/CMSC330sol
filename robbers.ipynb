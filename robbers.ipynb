{
  "nbformat": 4,
  "nbformat_minor": 0,
  "metadata": {
    "colab": {
      "provenance": [],
      "authorship_tag": "ABX9TyPE7hmRtU/pHH0DhHXeJHGw",
      "include_colab_link": true
    },
    "kernelspec": {
      "name": "python3",
      "display_name": "Python 3"
    },
    "language_info": {
      "name": "python"
    }
  },
  "cells": [
    {
      "cell_type": "markdown",
      "metadata": {
        "id": "view-in-github",
        "colab_type": "text"
      },
      "source": [
        "<a href=\"https://colab.research.google.com/github/michaelWoods786/CMSC330sol/blob/main/robbers.ipynb\" target=\"_parent\"><img src=\"https://colab.research.google.com/assets/colab-badge.svg\" alt=\"Open In Colab\"/></a>"
      ]
    },
    {
      "cell_type": "code",
      "execution_count": null,
      "metadata": {
        "id": "xqVyUkjwDA-H"
      },
      "outputs": [],
      "source": [
        "class Solution:\n",
        "       def rob(self, nums: List[int]) -> int:\n",
        "\n",
        "\n",
        "        if len(nums)>3:\n",
        "\n",
        "            rob1, rob2 = nums[-2], nums[-1]\n",
        "\n",
        "\n",
        "            for n in nums[0 : len(nums)-3]:\n",
        "                print(\"this is n: \" + str(n))\n",
        "                temp = max(n + rob1, rob2)\n",
        "                rob1 = rob2\n",
        "                rob2 = temp\n",
        "\n",
        "            print(rob2 - nums[-2] + nums[len(nums)-2])\n",
        "\n",
        "            if (rob2 - nums[-2]) + nums[len(nums)-2 ] > (rob2 - nums[-2]):\n",
        "                rob2 = rob2 - nums[-2] + nums[len(nums)-2]\n",
        "                print(\"this is rob2: \" + str(rob2))\n",
        "            return rob2\n",
        "        else:\n",
        "            if len(nums) == 1:\n",
        "                return nums[0]\n",
        "            rob1, rob2 = 0,0\n",
        "\n",
        "            if len(nums) == 2:\n",
        "                return max(nums)\n",
        "\n",
        "            print(\"this is rob1: \" )\n",
        "            for n in nums[1: len(nums) ]:\n",
        "                temp = max(n + rob1, rob2)\n",
        "                rob1 = rob2\n",
        "                rob2 = temp\n",
        "            return rob2\n"
      ]
    }
  ]
}